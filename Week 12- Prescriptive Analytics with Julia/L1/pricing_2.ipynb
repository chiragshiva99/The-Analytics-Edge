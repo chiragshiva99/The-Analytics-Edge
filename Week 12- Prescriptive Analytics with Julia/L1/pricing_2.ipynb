{
 "cells": [
  {
   "cell_type": "code",
   "execution_count": 1,
   "metadata": {},
   "outputs": [
    {
     "data": {
      "text/plain": [
       "A JuMP Model\n",
       "Feasibility problem with:\n",
       "Variables: 0\n",
       "Model mode: AUTOMATIC\n",
       "CachingOptimizer state: EMPTY_OPTIMIZER\n",
       "Solver name: Ipopt"
      ]
     },
     "execution_count": 1,
     "metadata": {},
     "output_type": "execute_result"
    }
   ],
   "source": [
    "# LOAD PACKAGES\n",
    "# -------------\n",
    "using JuMP  # Need to say it whenever we use JuMP\n",
    "using Ipopt # Loading the Ipopt solver for nonlinear programs\n",
    "\n",
    "# MODEL CONSTRUCTION\n",
    "# ------------------\n",
    "# model1 = Model(with_optimizer(Ipopt.Optimizer, max_cpu_time=60.0)) \n",
    "model1 = Model(Ipopt.Optimizer) "
   ]
  },
  {
   "cell_type": "code",
   "execution_count": 2,
   "metadata": {},
   "outputs": [
    {
     "data": {
      "text/plain": [
       "1×20 Matrix{Int64}:\n",
       " 34  35  33  32  35  31  34  35  34  …  32  30  34  33  30  32  35  30  33"
      ]
     },
     "execution_count": 2,
     "metadata": {},
     "output_type": "execute_result"
    }
   ],
   "source": [
    "# INPUT DATA\n",
    "# ----------\n",
    "\n",
    "# Number of decision variables (i.e., prices to set)\n",
    "n = 20\n",
    "\n",
    "# Parameters\n",
    "valuation = [46.7 46.5 46.9 43.8 48.8 42.7 46.4 39.8 37.6 33.5 27.5 35.4 33.5 37.6 40.8 35.2 38.7 42.3 36.8 41.8]\n",
    "# baseprice = [45.5 46 45 43 47 42 45 39 37 33 27 35 33 37 39 35 38 41 36 40]\n",
    "cost      = [34 35 33 32 35 31 34 35 34 29 24 32 30 34 33 30 32 35 30 33]"
   ]
  },
  {
   "cell_type": "code",
   "execution_count": 3,
   "metadata": {},
   "outputs": [
    {
     "data": {
      "text/plain": [
       "1-dimensional DenseAxisArray{VariableRef,1,...} with index sets:\n",
       "    Dimension 1, 0:20\n",
       "And data, a 21-element Vector{VariableRef}:\n",
       " x[0]\n",
       " x[1]\n",
       " x[2]\n",
       " x[3]\n",
       " x[4]\n",
       " x[5]\n",
       " x[6]\n",
       " x[7]\n",
       " x[8]\n",
       " x[9]\n",
       " x[10]\n",
       " x[11]\n",
       " x[12]\n",
       " x[13]\n",
       " x[14]\n",
       " x[15]\n",
       " x[16]\n",
       " x[17]\n",
       " x[18]\n",
       " x[19]\n",
       " x[20]"
      ]
     },
     "execution_count": 3,
     "metadata": {},
     "output_type": "execute_result"
    }
   ],
   "source": [
    "# VARIABLES\n",
    "# ---------\n",
    "\n",
    "# We have n (20) continuous decision variables\n",
    "@variable(model1,x[0:n] >= 0)"
   ]
  },
  {
   "cell_type": "code",
   "execution_count": 4,
   "metadata": {},
   "outputs": [
    {
     "data": {
      "text/latex": [
       "$$ x_{0} + x_{1} + x_{2} + x_{3} + x_{4} + x_{5} + x_{6} + x_{7} + x_{8} + x_{9} + x_{10} + x_{11} + x_{12} + x_{13} + x_{14} + x_{15} + x_{16} + x_{17} + x_{18} + x_{19} + x_{20} = 1.0 $$"
      ],
      "text/plain": [
       "x[0] + x[1] + x[2] + x[3] + x[4] + x[5] + x[6] + x[7] + x[8] + x[9] + x[10] + x[11] + x[12] + x[13] + x[14] + x[15] + x[16] + x[17] + x[18] + x[19] + x[20] = 1.0"
      ]
     },
     "execution_count": 4,
     "metadata": {},
     "output_type": "execute_result"
    }
   ],
   "source": [
    "# CONSTRAINTS\n",
    "# -----------\n",
    "\n",
    "# ...\n",
    "@constraint(model1,sum(x) == 1)"
   ]
  },
  {
   "cell_type": "code",
   "execution_count": 5,
   "metadata": {
    "scrolled": true
   },
   "outputs": [
    {
     "name": "stdout",
     "output_type": "stream",
     "text": [
      "The optimization problem to be solved is:\n"
     ]
    },
    {
     "data": {
      "text/latex": [
       "$$ \\begin{aligned}\n",
       "\\max\\quad & (1.0 - x_{0}) * log(x_{0}) + (((46.7 - log(x_{1})) - 34.0) * x_{1} + ((46.5 - log(x_{2})) - 35.0) * x_{2} + ((46.9 - log(x_{3})) - 33.0) * x_{3} + ((43.8 - log(x_{4})) - 32.0) * x_{4} + ((48.8 - log(x_{5})) - 35.0) * x_{5} + ((42.7 - log(x_{6})) - 31.0) * x_{6} + ((46.4 - log(x_{7})) - 34.0) * x_{7} + ((39.8 - log(x_{8})) - 35.0) * x_{8} + ((37.6 - log(x_{9})) - 34.0) * x_{9} + ((33.5 - log(x_{10})) - 29.0) * x_{10} + ((27.5 - log(x_{11})) - 24.0) * x_{11} + ((35.4 - log(x_{12})) - 32.0) * x_{12} + ((33.5 - log(x_{13})) - 30.0) * x_{13} + ((37.6 - log(x_{14})) - 34.0) * x_{14} + ((40.8 - log(x_{15})) - 33.0) * x_{15} + ((35.2 - log(x_{16})) - 30.0) * x_{16} + ((38.7 - log(x_{17})) - 32.0) * x_{17} + ((42.3 - log(x_{18})) - 35.0) * x_{18} + ((36.8 - log(x_{19})) - 30.0) * x_{19} + ((41.8 - log(x_{20})) - 33.0) * x_{20})\\\\\n",
       "\\text{Subject to} \\quad & x_{0} + x_{1} + x_{2} + x_{3} + x_{4} + x_{5} + x_{6} + x_{7} + x_{8} + x_{9} + x_{10} + x_{11} + x_{12} + x_{13} + x_{14} + x_{15} + x_{16} + x_{17} + x_{18} + x_{19} + x_{20} = 1.0\\\\\n",
       " & x_{0} \\geq 0.0\\\\\n",
       " & x_{1} \\geq 0.0\\\\\n",
       " & x_{2} \\geq 0.0\\\\\n",
       " & x_{3} \\geq 0.0\\\\\n",
       " & x_{4} \\geq 0.0\\\\\n",
       " & x_{5} \\geq 0.0\\\\\n",
       " & x_{6} \\geq 0.0\\\\\n",
       " & x_{7} \\geq 0.0\\\\\n",
       " & x_{8} \\geq 0.0\\\\\n",
       " & x_{9} \\geq 0.0\\\\\n",
       " & x_{10} \\geq 0.0\\\\\n",
       " & x_{11} \\geq 0.0\\\\\n",
       " & x_{12} \\geq 0.0\\\\\n",
       " & x_{13} \\geq 0.0\\\\\n",
       " & x_{14} \\geq 0.0\\\\\n",
       " & x_{15} \\geq 0.0\\\\\n",
       " & x_{16} \\geq 0.0\\\\\n",
       " & x_{17} \\geq 0.0\\\\\n",
       " & x_{18} \\geq 0.0\\\\\n",
       " & x_{19} \\geq 0.0\\\\\n",
       " & x_{20} \\geq 0.0\\\\\n",
       "\\end{aligned} $$"
      ]
     },
     "metadata": {},
     "output_type": "display_data"
    }
   ],
   "source": [
    "# OBJECTIVE\n",
    "# ---------\n",
    "\n",
    "# Objective function\n",
    "@NLobjective(model1, Max, (1-x[0])*log(x[0]) + sum((valuation[i]-log(x[i])-cost[i])*x[i] for i = 1:n))\n",
    "\n",
    "# PRINT THE MODEL IN A HUMAN-READABLE FORMAT\n",
    "# ------------------------------------------\n",
    "println(\"The optimization problem to be solved is:\")\n",
    "print(model1) # Shows the model constructed in a human-readable form"
   ]
  },
  {
   "cell_type": "code",
   "execution_count": 6,
   "metadata": {},
   "outputs": [
    {
     "name": "stdout",
     "output_type": "stream",
     "text": [
      "\n",
      "******************************************************************************\n",
      "This program contains Ipopt, a library for large-scale nonlinear optimization.\n",
      " Ipopt is released as open source code under the Eclipse Public License (EPL).\n",
      "         For more information visit https://github.com/coin-or/Ipopt\n",
      "******************************************************************************\n",
      "\n",
      "This is Ipopt version 3.14.4, running with linear solver MUMPS 5.4.1.\n",
      "\n",
      "Number of nonzeros in equality constraint Jacobian...:       21\n",
      "Number of nonzeros in inequality constraint Jacobian.:        0\n",
      "Number of nonzeros in Lagrangian Hessian.............:       21\n",
      "\n",
      "Total number of variables............................:       21\n",
      "                     variables with only lower bounds:       21\n",
      "                variables with lower and upper bounds:        0\n",
      "                     variables with only upper bounds:        0\n",
      "Total number of equality constraints.................:        1\n",
      "Total number of inequality constraints...............:        0\n",
      "        inequality constraints with only lower bounds:        0\n",
      "   inequality constraints with lower and upper bounds:        0\n",
      "        inequality constraints with only upper bounds:        0\n",
      "\n",
      "iter    objective    inf_pr   inf_du lg(mu)  ||d||  lg(rg) alpha_du alpha_pr  ls\n",
      "   0 -2.0650878e+00 7.90e-01 8.77e-07  -1.0 0.00e+00    -  0.00e+00 0.00e+00   0\n",
      "   1  7.4904759e+00 2.22e-16 1.77e+00  -1.7 3.76e-02    -  3.58e-01 1.00e+00f  1\n",
      "   2  7.4904934e+00 1.11e-16 1.09e+00  -1.7 1.73e-06    -  1.00e+00 5.00e-01h  2\n",
      "   3  7.4904767e+00 2.22e-16 2.00e-07  -1.7 8.25e-07    -  1.00e+00 1.00e+00h  1\n",
      "   4  7.4904772e+00 0.00e+00 1.50e-09  -3.8 1.41e-08    -  1.00e+00 1.00e+00h  1\n",
      "   5  7.4905449e+00 0.00e+00 1.84e-11  -5.7 1.89e-06    -  1.00e+00 1.00e+00f  1\n",
      "   6  7.4960539e+00 2.22e-16 7.17e-08  -8.6 1.53e-04    -  9.98e-01 1.00e+00f  1\n",
      "   7  8.7277352e+00 0.00e+00 3.91e-08  -8.6 2.70e-02    -  1.00e+00 1.00e+00h  1\n",
      "   8  9.6568042e+00 2.22e-16 1.28e-09  -8.6 4.44e-02    -  1.00e+00 1.00e+00f  1\n",
      "   9  1.0662817e+01 2.22e-16 1.91e-08 -12.9 5.99e-02    -  6.65e-01 1.00e+00h  1\n",
      "iter    objective    inf_pr   inf_du lg(mu)  ||d||  lg(rg) alpha_du alpha_pr  ls\n",
      "  10  1.1331068e+01 0.00e+00 1.34e-08 -12.9 1.07e-01    -  6.55e-01 1.00e+00h  1\n",
      "  11  1.1445580e+01 0.00e+00 5.08e-09 -12.9 3.48e-02    -  1.00e+00 1.00e+00f  1\n",
      "  12  1.1472038e+01 2.22e-16 5.87e-09 -12.9 9.74e-03    -  1.00e+00 1.00e+00f  1\n",
      "  13  1.1475923e+01 3.33e-16 3.71e-09 -12.9 1.60e-03    -  1.00e+00 1.00e+00h  1\n",
      "  14  1.1476570e+01 2.22e-16 2.22e-09 -12.9 4.30e-04    -  1.00e+00 1.00e+00h  1\n",
      "\n",
      "Number of Iterations....: 14\n",
      "\n",
      "                                   (scaled)                 (unscaled)\n",
      "Objective...............:  -1.1476570116132060e-07    1.1476570116132059e+01\n",
      "Dual infeasibility......:   2.2167094018020122e-09    2.2167094018020123e-01\n",
      "Constraint violation....:   2.2204460492503131e-16    2.2204460492503131e-16\n",
      "Variable bound violation:   0.0000000000000000e+00    0.0000000000000000e+00\n",
      "Complementarity.........:   7.5343321702984519e-13    7.5343321702984523e-05\n",
      "Overall NLP error.......:   2.2167094018020122e-09    2.2167094018020123e-01\n",
      "\n",
      "\n",
      "Number of objective function evaluations             = 17\n",
      "Number of objective gradient evaluations             = 15\n",
      "Number of equality constraint evaluations            = 17\n",
      "Number of inequality constraint evaluations          = 0\n",
      "Number of equality constraint Jacobian evaluations   = 1\n",
      "Number of inequality constraint Jacobian evaluations = 0\n",
      "Number of Lagrangian Hessian evaluations             = 14\n",
      "Total seconds in IPOPT                               = 1.306\n",
      "\n",
      "EXIT: Optimal Solution Found.\n"
     ]
    }
   ],
   "source": [
    "# SOLVE IT\n",
    "# --------\n",
    "\n",
    "status = optimize!(model1) # solves the model  "
   ]
  },
  {
   "cell_type": "code",
   "execution_count": 7,
   "metadata": {},
   "outputs": [
    {
     "name": "stdout",
     "output_type": "stream",
     "text": [
      "Objective value: 11.47657011613206\n",
      "x = 1-dimensional DenseAxisArray{Float64,1,...} with index sets:\n",
      "    Dimension 1, 0:20\n",
      "And data, a 21-element Vector{Float64}:\n",
      " 0.08014691240769256\n",
      " 0.10015734017026903\n",
      " 0.030175574733075243\n",
      " 0.33250497779163957\n",
      " 0.04072837882526106\n",
      " 0.3008641393053401\n",
      " 0.03685375449287014\n",
      " 0.07420163337325701\n",
      " 7.152501239632441e-5\n",
      " 3.386005021613367e-5\n",
      " 5.867764248600361e-5\n",
      " 3.1979640520319746e-5\n",
      " 3.022685947695747e-5\n",
      " 3.1979640520319746e-5\n",
      " 3.386005021613367e-5\n",
      " 0.0007931073104113018\n",
      " 9.424493559653596e-5\n",
      " 0.0003002815703291976\n",
      " 0.0005040729090328967\n",
      " 0.00032667595442943654\n",
      " 0.002056797324963847\n",
      "46.47711900444856\n",
      "47.47682854217387\n",
      "45.47720652485395\n",
      "44.47693623773593\n",
      "47.477202557220515\n",
      "43.47690385636344\n",
      "46.477075192592\n",
      "46.82156942237113\n",
      "45.36938077486617\n",
      "40.719557857920954\n",
      "35.32651716804471\n",
      "43.28288571885677\n",
      "41.32651716804471\n",
      "45.36938077486617\n",
      "45.415658100059865\n",
      "41.9457195434612\n",
      "44.28689603238099\n",
      "47.36889571623329\n",
      "42.30264792010268\n",
      "45.46271127925258\n"
     ]
    }
   ],
   "source": [
    "# DISPLAY THE RESULTS\n",
    "# -------------------\n",
    "\n",
    "println(\"Objective value: \", JuMP.objective_value(model1)) \n",
    "println(\"x = \", JuMP.value.(x)) \n",
    "for i = 1:n\n",
    "   println(valuation[i]-log(JuMP.value.(x[i]))+log(JuMP.value.(x[0])))\n",
    "end "
   ]
  },
  {
   "cell_type": "code",
   "execution_count": null,
   "metadata": {},
   "outputs": [],
   "source": []
  }
 ],
 "metadata": {
  "kernelspec": {
   "display_name": "Julia 1.7.3",
   "language": "julia",
   "name": "julia-1.7"
  },
  "language_info": {
   "file_extension": ".jl",
   "mimetype": "application/julia",
   "name": "julia",
   "version": "1.7.3"
  }
 },
 "nbformat": 4,
 "nbformat_minor": 2
}
