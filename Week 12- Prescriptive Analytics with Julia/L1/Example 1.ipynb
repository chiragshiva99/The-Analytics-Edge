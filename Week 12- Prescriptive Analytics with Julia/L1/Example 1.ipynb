{
 "cells": [
  {
   "cell_type": "code",
   "execution_count": 1,
   "metadata": {},
   "outputs": [
    {
     "data": {
      "text/plain": [
       "A JuMP Model\n",
       "Feasibility problem with:\n",
       "Variables: 0\n",
       "Model mode: AUTOMATIC\n",
       "CachingOptimizer state: EMPTY_OPTIMIZER\n",
       "Solver name: GLPK"
      ]
     },
     "execution_count": 1,
     "metadata": {},
     "output_type": "execute_result"
    }
   ],
   "source": [
    "# LOAD PACKAGES\n",
    "# -------------\n",
    "using JuMP  # Need to say it whenever we use JuMP\n",
    "using GLPK  # Loading the GLPK module\n",
    "\n",
    "# MODEL CONSTRUCTION\n",
    "# ------------------\n",
    "myModel = Model(GLPK.Optimizer)  \n",
    "# Name of the model object. All constraints and variables of an optimization problem are associated \n",
    "# with a particular model object.  \n",
    "# The argument of Model(), GLPK.Optimizer, means that to solve the optimization problem \n",
    "# we will use GLPK solver.\n",
    "\n",
    "# Alternative commands:\n",
    "# myModel = Model()\n",
    "# set_optimizer(myModel,GLPK.Optimizer)"
   ]
  },
  {
   "cell_type": "code",
   "execution_count": 2,
   "metadata": {},
   "outputs": [
    {
     "data": {
      "text/latex": [
       "$$ y $$"
      ],
      "text/plain": [
       "y"
      ]
     },
     "execution_count": 2,
     "metadata": {},
     "output_type": "execute_result"
    }
   ],
   "source": [
    "# VARIABLES\n",
    "# ---------\n",
    "\n",
    "# A variable is modelled using @variable(name of the model object, variable name and bound, variable type)\n",
    "# Bound can be lower bound, upper bound or both. If no variable type is defined, then it is treated as \n",
    "# real. For binary variable write Bin and for integer use Int.\n",
    "\n",
    "@variable(myModel, x >= 0) # Models x >=0\n",
    "\n",
    "# Some possible variations:\n",
    "# @variable(myModel, x, Bin) # No bound on x present, but x is a binary variable now\n",
    "# @variable(myModel, x <= 10) # This one defines a variable with lower bound x <= 10\n",
    "# @variable(myModel, 0 <= x <= 10, Int) # This one has both lower and upper bound, and x is an integer\n",
    "\n",
    "@variable(myModel, y >= 0) # Models y >= 0\n",
    "#"
   ]
  },
  {
   "cell_type": "code",
   "execution_count": 3,
   "metadata": {
    "scrolled": true
   },
   "outputs": [
    {
     "name": "stdout",
     "output_type": "stream",
     "text": [
      "The optimization problem to be solved is:\n"
     ]
    },
    {
     "data": {
      "text/latex": [
       "$$ \\begin{aligned}\n",
       "\\min\\quad & x + y\\\\\n",
       "\\text{Subject to} \\quad & x + y \\leq 1.0\\\\\n",
       " & x \\geq 0.0\\\\\n",
       " & y \\geq 0.0\\\\\n",
       "\\end{aligned} $$"
      ]
     },
     "metadata": {},
     "output_type": "display_data"
    }
   ],
   "source": [
    "# OBJECTIVE\n",
    "# ---------\n",
    "\n",
    "@objective(myModel, Min, x + y) # Sets the objective to be minimized. For maximization use Max\n",
    "\n",
    "# CONSTRAINTS\n",
    "# -----------\n",
    "\n",
    "@constraint(myModel, x + y <= 1) # Adds the constraint x + y <= 1\n",
    "\n",
    "# PRINT THE MODEL IN A HUMAN-READABLE FORMAT\n",
    "# ------------------------------------------\n",
    "println(\"The optimization problem to be solved is:\")\n",
    "print(myModel) # Shows the model constructed in a human-readable form"
   ]
  },
  {
   "cell_type": "code",
   "execution_count": 4,
   "metadata": {},
   "outputs": [
    {
     "data": {
      "text/plain": [
       "OPTIMAL::TerminationStatusCode = 1"
      ]
     },
     "execution_count": 4,
     "metadata": {},
     "output_type": "execute_result"
    }
   ],
   "source": [
    "# SOLVE IT\n",
    "# --------\n",
    "\n",
    "optimize!(myModel) # solves the model  \n",
    "termination_status(myModel)"
   ]
  },
  {
   "cell_type": "code",
   "execution_count": 5,
   "metadata": {},
   "outputs": [
    {
     "name": "stdout",
     "output_type": "stream",
     "text": [
      "Objective value: 0.0\n",
      "x = 0.0\n",
      "y = 0.0\n"
     ]
    }
   ],
   "source": [
    "# DISPLAY THE RESULTS\n",
    "# -------------------\n",
    "\n",
    "println(\"Objective value: \", objective_value(myModel)) \n",
    "println(\"x = \", value.(x)) \n",
    "println(\"y = \", value.(y)) "
   ]
  },
  {
   "cell_type": "code",
   "execution_count": 6,
   "metadata": {},
   "outputs": [
    {
     "data": {
      "text/plain": [
       "0.0"
      ]
     },
     "execution_count": 6,
     "metadata": {},
     "output_type": "execute_result"
    }
   ],
   "source": [
    "objective_value(myModel)"
   ]
  },
  {
   "cell_type": "code",
   "execution_count": null,
   "metadata": {},
   "outputs": [],
   "source": []
  }
 ],
 "metadata": {
  "kernelspec": {
   "display_name": "Julia 1.7.3",
   "language": "julia",
   "name": "julia-1.7"
  },
  "language_info": {
   "file_extension": ".jl",
   "mimetype": "application/julia",
   "name": "julia",
   "version": "1.7.3"
  }
 },
 "nbformat": 4,
 "nbformat_minor": 2
}
