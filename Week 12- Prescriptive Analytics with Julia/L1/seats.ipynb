{
 "cells": [
  {
   "cell_type": "code",
   "execution_count": 1,
   "metadata": {},
   "outputs": [
    {
     "data": {
      "text/plain": [
       "A JuMP Model\n",
       "Feasibility problem with:\n",
       "Variables: 0\n",
       "Model mode: AUTOMATIC\n",
       "CachingOptimizer state: EMPTY_OPTIMIZER\n",
       "Solver name: GLPK"
      ]
     },
     "execution_count": 1,
     "metadata": {},
     "output_type": "execute_result"
    }
   ],
   "source": [
    "# LOAD PACKAGES\n",
    "# -------------\n",
    "using JuMP  # Need to say it whenever we use JuMP\n",
    "using GLPK  # Loading the GLPK module for using its solver\n",
    "\n",
    "# MODEL CONSTRUCTION\n",
    "# ------------------\n",
    "model = Model(GLPK.Optimizer)"
   ]
  },
  {
   "cell_type": "code",
   "execution_count": 2,
   "metadata": {},
   "outputs": [
    {
     "data": {
      "text/plain": [
       "3-element Vector{Int64}:\n",
       " 140\n",
       " 120\n",
       " 100"
      ]
     },
     "execution_count": 2,
     "metadata": {},
     "output_type": "execute_result"
    }
   ],
   "source": [
    "# INPUT DATA\n",
    "# ----------\n",
    "\n",
    "n = 3 # no. of (integer) decision variables for x, y, z\n",
    "\n",
    "# coefficients for constraints\n",
    "demand_1 = [20; 40; 60] # demand LAX -> DFW\n",
    "demand_2 = [80; 60; 70] # demand LAX -> JFK\n",
    "demand_3 = [20; 20; 30] # demand DFW -> JFK \n",
    "\n",
    "# coefficients for obf. f.\n",
    "c = [100; 90; 80]\n",
    "d = [215; 185; 145]\n",
    "e = [140; 120; 100]"
   ]
  },
  {
   "cell_type": "code",
   "execution_count": 3,
   "metadata": {},
   "outputs": [
    {
     "data": {
      "text/plain": [
       "3-element Vector{VariableRef}:\n",
       " z[1]\n",
       " z[2]\n",
       " z[3]"
      ]
     },
     "execution_count": 3,
     "metadata": {},
     "output_type": "execute_result"
    }
   ],
   "source": [
    "# VARIABLES\n",
    "# ---------\n",
    "\n",
    "# We work with three vectors of decision variables: x, y, and z\n",
    "@variable(model, x[1:n]>=0, Int) # LAX -> DFW \n",
    "@variable(model, y[1:n]>=0, Int) # LAX -> JFK\n",
    "@variable(model, z[1:n]>=0, Int) # DFW -> JFK"
   ]
  },
  {
   "cell_type": "code",
   "execution_count": 4,
   "metadata": {},
   "outputs": [
    {
     "data": {
      "text/plain": [
       "3-element Vector{ConstraintRef{Model, MathOptInterface.ConstraintIndex{MathOptInterface.ScalarAffineFunction{Float64}, MathOptInterface.LessThan{Float64}}, ScalarShape}}:\n",
       " z[1] ≤ 20.0\n",
       " z[2] ≤ 20.0\n",
       " z[3] ≤ 30.0"
      ]
     },
     "execution_count": 4,
     "metadata": {},
     "output_type": "execute_result"
    }
   ],
   "source": [
    "# CONSTRAINTS\n",
    "# -----------\n",
    "\n",
    "# We define a vector of constraints\n",
    "@constraint(model, sum(x) + sum(y) <= 300)         # capacity of LAX -> DFW\n",
    "@constraint(model, sum(y) + sum(z) <= 200)         # capacity of DFW -> JFK\n",
    "@constraint(model, [i = 1:3], x[i] <= demand_1[i]) # demand LAX -> DFW\n",
    "@constraint(model, [j = 1:3], y[j] <= demand_2[j]) # demand LAX -> JFK\n",
    "@constraint(model, [l = 1:3], z[l] <= demand_3[l]) # demand DFW -> JFK\n"
   ]
  },
  {
   "cell_type": "code",
   "execution_count": 5,
   "metadata": {
    "scrolled": true
   },
   "outputs": [
    {
     "name": "stdout",
     "output_type": "stream",
     "text": [
      "The optimization problem to be solved is:\n"
     ]
    },
    {
     "data": {
      "text/latex": [
       "$$ \\begin{aligned}\n",
       "\\max\\quad & 100 x_{1} + 90 x_{2} + 80 x_{3} + 215 y_{1} + 185 y_{2} + 145 y_{3} + 140 z_{1} + 120 z_{2} + 100 z_{3}\\\\\n",
       "\\text{Subject to} \\quad & x_{1} + x_{2} + x_{3} + y_{1} + y_{2} + y_{3} \\leq 300.0\\\\\n",
       " & y_{1} + y_{2} + y_{3} + z_{1} + z_{2} + z_{3} \\leq 200.0\\\\\n",
       " & x_{1} \\leq 20.0\\\\\n",
       " & x_{2} \\leq 40.0\\\\\n",
       " & x_{3} \\leq 60.0\\\\\n",
       " & y_{1} \\leq 80.0\\\\\n",
       " & y_{2} \\leq 60.0\\\\\n",
       " & y_{3} \\leq 70.0\\\\\n",
       " & z_{1} \\leq 20.0\\\\\n",
       " & z_{2} \\leq 20.0\\\\\n",
       " & z_{3} \\leq 30.0\\\\\n",
       " & x_{1} \\geq 0.0\\\\\n",
       " & x_{2} \\geq 0.0\\\\\n",
       " & x_{3} \\geq 0.0\\\\\n",
       " & y_{1} \\geq 0.0\\\\\n",
       " & y_{2} \\geq 0.0\\\\\n",
       " & y_{3} \\geq 0.0\\\\\n",
       " & z_{1} \\geq 0.0\\\\\n",
       " & z_{2} \\geq 0.0\\\\\n",
       " & z_{3} \\geq 0.0\\\\\n",
       " & x_{1} \\in \\mathbb{Z}\\\\\n",
       " & x_{2} \\in \\mathbb{Z}\\\\\n",
       " & x_{3} \\in \\mathbb{Z}\\\\\n",
       " & y_{1} \\in \\mathbb{Z}\\\\\n",
       " & y_{2} \\in \\mathbb{Z}\\\\\n",
       " & y_{3} \\in \\mathbb{Z}\\\\\n",
       " & z_{1} \\in \\mathbb{Z}\\\\\n",
       " & z_{2} \\in \\mathbb{Z}\\\\\n",
       " & z_{3} \\in \\mathbb{Z}\\\\\n",
       "\\end{aligned} $$"
      ]
     },
     "metadata": {},
     "output_type": "display_data"
    }
   ],
   "source": [
    "# OBJECTIVE\n",
    "# ---------\n",
    "\n",
    "# Maximize cTx + dTy + eTz\n",
    "@objective(model, Max, c'x + d'y + e'z)  \n",
    "\n",
    "# PRINT THE MODEL IN A HUMAN-READABLE FORMAT\n",
    "# ------------------------------------------\n",
    "println(\"The optimization problem to be solved is:\")\n",
    "print(model) # Shows the model constructed in a human-readable form"
   ]
  },
  {
   "cell_type": "code",
   "execution_count": 6,
   "metadata": {},
   "outputs": [
    {
     "data": {
      "text/plain": [
       "OPTIMAL::TerminationStatusCode = 1"
      ]
     },
     "execution_count": 6,
     "metadata": {},
     "output_type": "execute_result"
    }
   ],
   "source": [
    "# SOLVE IT\n",
    "# --------\n",
    "\n",
    "status = optimize!(model) # solves the model  \n",
    "termination_status(model)"
   ]
  },
  {
   "cell_type": "code",
   "execution_count": 7,
   "metadata": {},
   "outputs": [
    {
     "name": "stdout",
     "output_type": "stream",
     "text": [
      "Objective value: 47300.0\n",
      "x = [20.0, 40.0, 60.0]\n",
      "y = [80.0, 60.0, 40.0]\n",
      "z = [20.0, 0.0, 0.0]\n"
     ]
    }
   ],
   "source": [
    "# DISPLAY THE RESULTS\n",
    "# -------------------\n",
    "\n",
    "println(\"Objective value: \", objective_value(model)) \n",
    "println(\"x = \", value.(x)) \n",
    "println(\"y = \", value.(y)) \n",
    "println(\"z = \", value.(z)) "
   ]
  },
  {
   "cell_type": "code",
   "execution_count": null,
   "metadata": {},
   "outputs": [],
   "source": []
  }
 ],
 "metadata": {
  "kernelspec": {
   "display_name": "Julia 1.7.3",
   "language": "julia",
   "name": "julia-1.7"
  },
  "language_info": {
   "file_extension": ".jl",
   "mimetype": "application/julia",
   "name": "julia",
   "version": "1.7.3"
  }
 },
 "nbformat": 4,
 "nbformat_minor": 2
}
